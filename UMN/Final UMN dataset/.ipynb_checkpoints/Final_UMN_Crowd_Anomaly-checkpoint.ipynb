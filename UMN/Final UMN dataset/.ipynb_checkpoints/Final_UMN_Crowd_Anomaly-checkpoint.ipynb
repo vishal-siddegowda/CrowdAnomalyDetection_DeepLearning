{
 "cells": [
  {
   "cell_type": "code",
   "execution_count": null,
   "metadata": {
    "colab": {
     "base_uri": "https://localhost:8080/"
    },
    "id": "o_QTsPMhjm-l",
    "outputId": "8f9eca16-2c95-4ba4-ab5d-7e262671e1cb"
   },
   "outputs": [
    {
     "name": "stdout",
     "output_type": "stream",
     "text": [
      "Drive already mounted at /content/gdrive; to attempt to forcibly remount, call drive.mount(\"/content/gdrive\", force_remount=True).\n"
     ]
    }
   ],
   "source": [
    "#Use this if google collab is used for the purpose of high RAM and GPU\n",
    "from google.colab import drive\n",
    "drive.mount('/content/gdrive')"
   ]
  },
  {
   "cell_type": "code",
   "execution_count": null,
   "metadata": {
    "colab": {
     "base_uri": "https://localhost:8080/"
    },
    "id": "W_-NK1vO_5Z5",
    "outputId": "4498514f-77f9-4d7b-baf3-794935b865f6"
   },
   "outputs": [
    {
     "name": "stderr",
     "output_type": "stream",
     "text": [
      "/usr/local/lib/python3.7/dist-packages/sklearn/externals/six.py:31: FutureWarning: The module is deprecated in version 0.21 and will be removed in version 0.23 since we've dropped support for Python 2.7. Please rely on the official version of six (https://pypi.org/project/six/).\n",
      "  \"(https://pypi.org/project/six/).\", FutureWarning)\n",
      "/usr/local/lib/python3.7/dist-packages/sklearn/utils/deprecation.py:144: FutureWarning: The sklearn.neighbors.base module is  deprecated in version 0.22 and will be removed in version 0.24. The corresponding classes / functions should instead be imported from sklearn.neighbors. Anything that cannot be imported from sklearn.neighbors is now part of the private API.\n",
      "  warnings.warn(message, FutureWarning)\n"
     ]
    }
   ],
   "source": [
    "#Importing All the necessary libraries\n",
    "import numpy as np\n",
    "import os\n",
    "import cv2\n",
    "import matplotlib.pyplot as plt\n",
    "import tensorflow\n",
    "from tensorflow.keras import layers\n",
    "from tensorflow import keras\n",
    "from tensorflow.keras.layers import LeakyReLU\n",
    "from imblearn.over_sampling import RandomOverSampler\n",
    "from collections import Counter\n",
    "from tensorflow.keras.models import Sequential, Model, load_model \n",
    "import pickle"
   ]
  },
  {
   "cell_type": "markdown",
   "metadata": {},
   "source": [
    "## Data Pre-processing"
   ]
  },
  {
   "cell_type": "code",
   "execution_count": null,
   "metadata": {
    "id": "VpXDwvXqEECp"
   },
   "outputs": [],
   "source": [
    "# 0 => noramal crowd and 1 => abnormal crowd\n",
    "#Change the directory path as per your requirement\n",
    "\n",
    "base_dir = 'Users/visha/Documents/MSDSAI/Dissertation/Final Submission/UMN/Final UMN dataset/UMN_CHALE_5159/train_UMN_clahe'\n",
    "categories_train = ['0','1']\n",
    "\n",
    "train_data = []\n",
    "\n",
    "def data_creation_train():\n",
    "  for category in categories_train:\n",
    "    path = os.path.join(base_dir,category)\n",
    "    labels=categories_train.index(category)\n",
    "    for img in os.listdir(path):\n",
    "      \n",
    "      new_img = cv2.imread(os.path.join(path,img),cv2.IMREAD_COLOR)\n",
    "      img = cv2.cvtColor(new_img, cv2.COLOR_RGB2BGR)\n",
    "      img = cv2.resize(img,(224,224))\n",
    "\n",
    "      train_data.append([img,labels])\n",
    "  \n",
    "data_creation_train()"
   ]
  },
  {
   "cell_type": "code",
   "execution_count": null,
   "metadata": {
    "colab": {
     "base_uri": "https://localhost:8080/"
    },
    "id": "hqZXh8faG-dl",
    "outputId": "f18c1117-dd69-41ce-c755-64d497a891d7"
   },
   "outputs": [
    {
     "name": "stdout",
     "output_type": "stream",
     "text": [
      "2970\n"
     ]
    }
   ],
   "source": [
    "print(len(train_data))"
   ]
  },
  {
   "cell_type": "code",
   "execution_count": null,
   "metadata": {
    "id": "4DjTGiuOGe_v"
   },
   "outputs": [],
   "source": [
    "# 0 => noramal crowd and 1 => abnormal crowd\n",
    "#Change the directory path as per your requirement\n",
    "\n",
    "base_dir = 'Users/visha/Documents/MSDSAI/Dissertation/Final Submission/UMN/Final UMN dataset/UMN_CHALE_5159/test_UMN_clahe'\n",
    "categories_test = ['0','1']\n",
    "\n",
    "test_data = []\n",
    "\n",
    "def data_creation_test():\n",
    "  for category in categories_test:\n",
    "    path = os.path.join(base_dir,category)\n",
    "    labels=categories_test.index(category)\n",
    "    for img in os.listdir(path):\n",
    "\n",
    "      new_img = cv2.imread(os.path.join(path,img),cv2.IMREAD_COLOR)\n",
    "      img = cv2.cvtColor(new_img, cv2.COLOR_RGB2BGR)\n",
    "      img = cv2.resize(img,(224,224))\n",
    "\n",
    "      test_data.append([img,labels])\n",
    "    \n",
    "data_creation_test()"
   ]
  },
  {
   "cell_type": "code",
   "execution_count": null,
   "metadata": {
    "colab": {
     "base_uri": "https://localhost:8080/"
    },
    "id": "N3P-JXhjHDGO",
    "outputId": "68e3c155-ee89-4563-f8df-eb10b7e19f6e"
   },
   "outputs": [
    {
     "name": "stdout",
     "output_type": "stream",
     "text": [
      "2189\n"
     ]
    }
   ],
   "source": [
    "print(len(test_data))"
   ]
  },
  {
   "cell_type": "code",
   "execution_count": null,
   "metadata": {
    "id": "0hx5HFcGQMdd"
   },
   "outputs": [],
   "source": [
    "#Applying random shuffling on train and test data\n",
    "import random\n",
    "random.shuffle(train_data)\n",
    "random.shuffle(test_data)"
   ]
  },
  {
   "cell_type": "code",
   "execution_count": null,
   "metadata": {
    "id": "Tj1tBHjXAsGg"
   },
   "outputs": [],
   "source": [
    "x = []\n",
    "y = []\n",
    "x1=[]\n",
    "y1=[]"
   ]
  },
  {
   "cell_type": "code",
   "execution_count": null,
   "metadata": {
    "id": "hYleHa1nAsI5"
   },
   "outputs": [],
   "source": [
    "#Appending all the desired data into lists\n",
    "for features,labels in train_data:\n",
    "  x.append(features)\n",
    "  y.append(labels)\n",
    "    \n",
    "for features,labels in test_data:\n",
    "  x1.append(features)\n",
    "  y1.append(labels)"
   ]
  },
  {
   "cell_type": "code",
   "execution_count": null,
   "metadata": {
    "id": "NZXqFZQWbTxr"
   },
   "outputs": [],
   "source": [
    "#Converting the list into array before introducing into core network\n",
    "x = np.array(x)\n",
    "y = np.array(y)\n",
    "x1 = np.array(x1)\n",
    "y1 = np.array(y1)"
   ]
  },
  {
   "cell_type": "code",
   "execution_count": null,
   "metadata": {
    "colab": {
     "base_uri": "https://localhost:8080/"
    },
    "id": "V5tZWMF-RL1Z",
    "outputId": "cec38cfb-61c3-425c-ff64-2f2106487a6d"
   },
   "outputs": [
    {
     "data": {
      "text/plain": [
       "((2970, 224, 224, 3), (2970,), (2189, 224, 224, 3), (2189,))"
      ]
     },
     "execution_count": 11,
     "metadata": {
      "tags": []
     },
     "output_type": "execute_result"
    }
   ],
   "source": [
    "x.shape,y.shape, x1.shape, y1.shape"
   ]
  },
  {
   "cell_type": "code",
   "execution_count": null,
   "metadata": {
    "id": "YWxPQ_IAjcSa"
   },
   "outputs": [],
   "source": [
    "#Normalizing the traina and test data\n",
    "train_x=x/255.0\n",
    "test_x=x1/255.0\n",
    "train_y = y\n",
    "test_y = y1"
   ]
  },
  {
   "cell_type": "code",
   "execution_count": null,
   "metadata": {
    "colab": {
     "base_uri": "https://localhost:8080/"
    },
    "id": "ijg57gB0fp1I",
    "outputId": "33ea4ed4-3dd7-4213-849b-1ab4f5cbdd6b"
   },
   "outputs": [
    {
     "data": {
      "text/plain": [
       "((2970, 224, 224, 3), (2970,), (2189, 224, 224, 3), (2189,))"
      ]
     },
     "execution_count": 13,
     "metadata": {
      "tags": []
     },
     "output_type": "execute_result"
    }
   ],
   "source": [
    "train_x.shape,train_y.shape,test_x.shape,test_y.shape"
   ]
  },
  {
   "cell_type": "code",
   "execution_count": null,
   "metadata": {
    "id": "7qZUjTGZf3Dt"
   },
   "outputs": [],
   "source": [
    "#Importing pre-trained VGG19 model\n",
    "from tensorflow.keras.applications import VGG19\n",
    "\n",
    "model = VGG19(weights='imagenet', include_top=False, input_shape=(224,224,3))"
   ]
  },
  {
   "cell_type": "code",
   "execution_count": null,
   "metadata": {
    "colab": {
     "base_uri": "https://localhost:8080/"
    },
    "id": "ANAlTxg2XO-L",
    "outputId": "e9e1e164-ea18-48d7-d1d2-04dd90b14c0b"
   },
   "outputs": [
    {
     "name": "stdout",
     "output_type": "stream",
     "text": [
      "Model: \"vgg19\"\n",
      "_________________________________________________________________\n",
      "Layer (type)                 Output Shape              Param #   \n",
      "=================================================================\n",
      "input_1 (InputLayer)         [(None, 224, 224, 3)]     0         \n",
      "_________________________________________________________________\n",
      "block1_conv1 (Conv2D)        (None, 224, 224, 64)      1792      \n",
      "_________________________________________________________________\n",
      "block1_conv2 (Conv2D)        (None, 224, 224, 64)      36928     \n",
      "_________________________________________________________________\n",
      "block1_pool (MaxPooling2D)   (None, 112, 112, 64)      0         \n",
      "_________________________________________________________________\n",
      "block2_conv1 (Conv2D)        (None, 112, 112, 128)     73856     \n",
      "_________________________________________________________________\n",
      "block2_conv2 (Conv2D)        (None, 112, 112, 128)     147584    \n",
      "_________________________________________________________________\n",
      "block2_pool (MaxPooling2D)   (None, 56, 56, 128)       0         \n",
      "_________________________________________________________________\n",
      "block3_conv1 (Conv2D)        (None, 56, 56, 256)       295168    \n",
      "_________________________________________________________________\n",
      "block3_conv2 (Conv2D)        (None, 56, 56, 256)       590080    \n",
      "_________________________________________________________________\n",
      "block3_conv3 (Conv2D)        (None, 56, 56, 256)       590080    \n",
      "_________________________________________________________________\n",
      "block3_conv4 (Conv2D)        (None, 56, 56, 256)       590080    \n",
      "_________________________________________________________________\n",
      "block3_pool (MaxPooling2D)   (None, 28, 28, 256)       0         \n",
      "_________________________________________________________________\n",
      "block4_conv1 (Conv2D)        (None, 28, 28, 512)       1180160   \n",
      "_________________________________________________________________\n",
      "block4_conv2 (Conv2D)        (None, 28, 28, 512)       2359808   \n",
      "_________________________________________________________________\n",
      "block4_conv3 (Conv2D)        (None, 28, 28, 512)       2359808   \n",
      "_________________________________________________________________\n",
      "block4_conv4 (Conv2D)        (None, 28, 28, 512)       2359808   \n",
      "_________________________________________________________________\n",
      "block4_pool (MaxPooling2D)   (None, 14, 14, 512)       0         \n",
      "_________________________________________________________________\n",
      "block5_conv1 (Conv2D)        (None, 14, 14, 512)       2359808   \n",
      "_________________________________________________________________\n",
      "block5_conv2 (Conv2D)        (None, 14, 14, 512)       2359808   \n",
      "_________________________________________________________________\n",
      "block5_conv3 (Conv2D)        (None, 14, 14, 512)       2359808   \n",
      "_________________________________________________________________\n",
      "block5_conv4 (Conv2D)        (None, 14, 14, 512)       2359808   \n",
      "_________________________________________________________________\n",
      "block5_pool (MaxPooling2D)   (None, 7, 7, 512)         0         \n",
      "=================================================================\n",
      "Total params: 20,024,384\n",
      "Trainable params: 20,024,384\n",
      "Non-trainable params: 0\n",
      "_________________________________________________________________\n"
     ]
    }
   ],
   "source": [
    "model.summary()"
   ]
  },
  {
   "cell_type": "code",
   "execution_count": null,
   "metadata": {
    "id": "rbwox1vsXPA4"
   },
   "outputs": [],
   "source": [
    "#Stacking a fine tuned layer for core model\n",
    "x = layers.Flatten()(model.output)\n",
    "x = layers.Dense(128, activation='relu')(x)\n",
    "x = layers.Dense(64, activation='relu')(x)\n",
    "x = layers.Dense(1, activation='sigmoid')(x)\n",
    "final_model_train = tensorflow.keras.models.Model(model.input, x)"
   ]
  },
  {
   "cell_type": "code",
   "execution_count": null,
   "metadata": {
    "id": "wpXTri0dt5wb"
   },
   "outputs": [],
   "source": [
    "for layer in final_model_train.layers:\n",
    "  layer.trainable = True"
   ]
  },
  {
   "cell_type": "code",
   "execution_count": null,
   "metadata": {
    "id": "ldj9Vsfjt5yz"
   },
   "outputs": [],
   "source": [
    "for layer in model.layers:\n",
    "  layer.trainable = False"
   ]
  },
  {
   "cell_type": "code",
   "execution_count": null,
   "metadata": {
    "colab": {
     "base_uri": "https://localhost:8080/"
    },
    "id": "Z6pKsu0SjcSd",
    "outputId": "4b9618eb-8325-4510-f45d-6e517070adf2"
   },
   "outputs": [
    {
     "name": "stdout",
     "output_type": "stream",
     "text": [
      "Model: \"model\"\n",
      "_________________________________________________________________\n",
      "Layer (type)                 Output Shape              Param #   \n",
      "=================================================================\n",
      "input_1 (InputLayer)         [(None, 224, 224, 3)]     0         \n",
      "_________________________________________________________________\n",
      "block1_conv1 (Conv2D)        (None, 224, 224, 64)      1792      \n",
      "_________________________________________________________________\n",
      "block1_conv2 (Conv2D)        (None, 224, 224, 64)      36928     \n",
      "_________________________________________________________________\n",
      "block1_pool (MaxPooling2D)   (None, 112, 112, 64)      0         \n",
      "_________________________________________________________________\n",
      "block2_conv1 (Conv2D)        (None, 112, 112, 128)     73856     \n",
      "_________________________________________________________________\n",
      "block2_conv2 (Conv2D)        (None, 112, 112, 128)     147584    \n",
      "_________________________________________________________________\n",
      "block2_pool (MaxPooling2D)   (None, 56, 56, 128)       0         \n",
      "_________________________________________________________________\n",
      "block3_conv1 (Conv2D)        (None, 56, 56, 256)       295168    \n",
      "_________________________________________________________________\n",
      "block3_conv2 (Conv2D)        (None, 56, 56, 256)       590080    \n",
      "_________________________________________________________________\n",
      "block3_conv3 (Conv2D)        (None, 56, 56, 256)       590080    \n",
      "_________________________________________________________________\n",
      "block3_conv4 (Conv2D)        (None, 56, 56, 256)       590080    \n",
      "_________________________________________________________________\n",
      "block3_pool (MaxPooling2D)   (None, 28, 28, 256)       0         \n",
      "_________________________________________________________________\n",
      "block4_conv1 (Conv2D)        (None, 28, 28, 512)       1180160   \n",
      "_________________________________________________________________\n",
      "block4_conv2 (Conv2D)        (None, 28, 28, 512)       2359808   \n",
      "_________________________________________________________________\n",
      "block4_conv3 (Conv2D)        (None, 28, 28, 512)       2359808   \n",
      "_________________________________________________________________\n",
      "block4_conv4 (Conv2D)        (None, 28, 28, 512)       2359808   \n",
      "_________________________________________________________________\n",
      "block4_pool (MaxPooling2D)   (None, 14, 14, 512)       0         \n",
      "_________________________________________________________________\n",
      "block5_conv1 (Conv2D)        (None, 14, 14, 512)       2359808   \n",
      "_________________________________________________________________\n",
      "block5_conv2 (Conv2D)        (None, 14, 14, 512)       2359808   \n",
      "_________________________________________________________________\n",
      "block5_conv3 (Conv2D)        (None, 14, 14, 512)       2359808   \n",
      "_________________________________________________________________\n",
      "block5_conv4 (Conv2D)        (None, 14, 14, 512)       2359808   \n",
      "_________________________________________________________________\n",
      "block5_pool (MaxPooling2D)   (None, 7, 7, 512)         0         \n",
      "_________________________________________________________________\n",
      "flatten (Flatten)            (None, 25088)             0         \n",
      "_________________________________________________________________\n",
      "dense (Dense)                (None, 128)               3211392   \n",
      "_________________________________________________________________\n",
      "dense_1 (Dense)              (None, 64)                8256      \n",
      "_________________________________________________________________\n",
      "dense_2 (Dense)              (None, 1)                 65        \n",
      "=================================================================\n",
      "Total params: 23,244,097\n",
      "Trainable params: 3,219,713\n",
      "Non-trainable params: 20,024,384\n",
      "_________________________________________________________________\n"
     ]
    }
   ],
   "source": [
    "final_model_train.summary()"
   ]
  },
  {
   "cell_type": "code",
   "execution_count": null,
   "metadata": {
    "id": "XYYRuxcbjcSd"
   },
   "outputs": [],
   "source": [
    "adam = tensorflow.keras.optimizers.Adam(0.0001)\n",
    "final_model_train.compile(loss= 'binary_crossentropy', optimizer=adam, metrics=['accuracy'])"
   ]
  },
  {
   "cell_type": "code",
   "execution_count": null,
   "metadata": {
    "colab": {
     "base_uri": "https://localhost:8080/"
    },
    "id": "cvE9WkAcQo0j",
    "outputId": "3455a61e-311c-45a5-e888-1a3e4f78d01a"
   },
   "outputs": [
    {
     "data": {
      "text/plain": [
       "((2970, 224, 224, 3), (2970,))"
      ]
     },
     "execution_count": 21,
     "metadata": {
      "tags": []
     },
     "output_type": "execute_result"
    }
   ],
   "source": [
    "train_x.shape, train_y.shape"
   ]
  },
  {
   "cell_type": "code",
   "execution_count": null,
   "metadata": {
    "colab": {
     "base_uri": "https://localhost:8080/"
    },
    "id": "1EDLHtPBjcSd",
    "outputId": "9de1682a-3427-4f36-9fe0-bc5f190fd2bd"
   },
   "outputs": [
    {
     "name": "stdout",
     "output_type": "stream",
     "text": [
      "Epoch 1/8\n",
      "30/30 [==============================] - 16s 228ms/step - loss: 0.4445 - accuracy: 0.7608\n",
      "Epoch 2/8\n",
      "30/30 [==============================] - 7s 228ms/step - loss: 0.0603 - accuracy: 0.9864\n",
      "Epoch 3/8\n",
      "30/30 [==============================] - 7s 228ms/step - loss: 0.0208 - accuracy: 0.9959\n",
      "Epoch 4/8\n",
      "30/30 [==============================] - 7s 228ms/step - loss: 0.0109 - accuracy: 0.9997\n",
      "Epoch 5/8\n",
      "30/30 [==============================] - 7s 228ms/step - loss: 0.0069 - accuracy: 0.9999\n",
      "Epoch 6/8\n",
      "30/30 [==============================] - 7s 228ms/step - loss: 0.0052 - accuracy: 1.0000\n",
      "Epoch 7/8\n",
      "30/30 [==============================] - 7s 228ms/step - loss: 0.0039 - accuracy: 1.0000\n",
      "Epoch 8/8\n",
      "30/30 [==============================] - 7s 228ms/step - loss: 0.0030 - accuracy: 1.0000\n"
     ]
    }
   ],
   "source": [
    "history = final_model_train.fit(train_x,train_y, steps_per_epoch=30,epochs=8)"
   ]
  },
  {
   "cell_type": "code",
   "execution_count": null,
   "metadata": {
    "colab": {
     "base_uri": "https://localhost:8080/"
    },
    "id": "XMJJRMZEzuxU",
    "outputId": "af36c541-457a-4711-d205-46be4ecf15f5"
   },
   "outputs": [
    {
     "data": {
      "text/plain": [
       "((2970, 224, 224, 3), (2970,))"
      ]
     },
     "execution_count": 23,
     "metadata": {
      "tags": []
     },
     "output_type": "execute_result"
    }
   ],
   "source": [
    "train_x.shape,train_y.shape"
   ]
  },
  {
   "cell_type": "code",
   "execution_count": null,
   "metadata": {},
   "outputs": [],
   "source": [
    "#Change the directory path as per your requirement\n",
    "\n",
    "final_model_train.save('/Users/visha/Documents/MSDSAI/Dissertation/Final Submission/UMN/Final UMN dataset/train_VGG16.h5')"
   ]
  },
  {
   "cell_type": "markdown",
   "metadata": {
    "id": "4tbhhWkBOURU"
   },
   "source": [
    "## Feature Extraction\n"
   ]
  },
  {
   "cell_type": "code",
   "execution_count": null,
   "metadata": {
    "id": "6yqOPK_SOW88"
   },
   "outputs": [],
   "source": [
    "def feature_generation(model,path,out_file):\n",
    "    train_features={0:[],1:[]}\n",
    "    train_classes=['0','1']\n",
    "    for i in train_classes:\n",
    "      in_path=os.listdir(path+i+'/')\n",
    "      for j in in_path:\n",
    "        x = cv2.imread(path+i+'/'+j)\n",
    "        x = cv2.resize(x, (224,224))\n",
    "        x = cv2.cvtColor(x, cv2.COLOR_RGB2BGR).astype(np.float32) / 255.0\n",
    "        x = np.expand_dims(x, axis =0)\n",
    "        train_features[int(i)].append(model.predict(x))\n",
    "    pickle.dump(train_features, open(out_file, \"wb\" ))\n",
    "    return train_features"
   ]
  },
  {
   "cell_type": "code",
   "execution_count": null,
   "metadata": {
    "id": "ZrGCKc43OW_e"
   },
   "outputs": [],
   "source": [
    "#Change the directory path as per your requirement\n",
    "\n",
    "model=load_model('/Users/visha/Documents/MSDSAI/Dissertation/Final Submission/UMN/Final UMN dataset/train_VGG16.h5')"
   ]
  },
  {
   "cell_type": "code",
   "execution_count": null,
   "metadata": {
    "id": "EGWaXHFkOXCL"
   },
   "outputs": [],
   "source": [
    "#Generating feature for the dense layer utilizing train data\n",
    "#Change the directory path as per your requirement\n",
    "\n",
    "model_train = Model(model.input,model.get_layer('dense').output)\n",
    "train_feature = feature_generation(model_train,'/Users/visha/Documents/MSDSAI/Dissertation/Final Submission/UMN/Final UMN dataset/UMN_CHALE_5159/train_UMN_clahe/','train_features_dense.pkl')"
   ]
  },
  {
   "cell_type": "code",
   "execution_count": null,
   "metadata": {
    "colab": {
     "base_uri": "https://localhost:8080/"
    },
    "id": "j_S_NVTyOXEy",
    "outputId": "3b883960-0a94-4e0c-8022-55f89d6ab3cb"
   },
   "outputs": [
    {
     "data": {
      "text/plain": [
       "(1, 128)"
      ]
     },
     "execution_count": 28,
     "metadata": {
      "tags": []
     },
     "output_type": "execute_result"
    }
   ],
   "source": [
    "train_feature[0][0].shape"
   ]
  },
  {
   "cell_type": "code",
   "execution_count": null,
   "metadata": {
    "id": "prxuY60hOXHI"
   },
   "outputs": [],
   "source": [
    "#Change the directory path as per your requirement\n",
    "train_feature_dict=pickle.load(open('/Users/visha/Documents/MSDSAI/Dissertation/Final Submission/UMN/Final UMN dataset/UMN_CHALE_5159/train_UMN_clahe/train_features_dense.pkl','rb'))"
   ]
  },
  {
   "cell_type": "code",
   "execution_count": null,
   "metadata": {
    "id": "q52BE5_OOXKR"
   },
   "outputs": [],
   "source": [
    "#Creating features and labels list\n",
    "train_labels_list = []\n",
    "train_feature_list = []\n",
    "for key,features in train_feature_dict.items():\n",
    "    train_labels_list.extend([int(key)] * len(features))\n",
    "    train_feature_list.append(features)\n",
    "train_feature_list = np.concatenate(train_feature_list)"
   ]
  },
  {
   "cell_type": "code",
   "execution_count": null,
   "metadata": {
    "id": "h7Th4RThOXMd"
   },
   "outputs": [],
   "source": [
    "train_feature_list_1=[]\n",
    "for i in range(0,len(train_feature_list)):\n",
    "    train_feature_list_1.append(train_feature_list[i].ravel()) "
   ]
  },
  {
   "cell_type": "code",
   "execution_count": null,
   "metadata": {
    "id": "eKcbeqkcOXPg"
   },
   "outputs": [],
   "source": [
    "train_features = np.array(train_feature_list_1)\n",
    "train_labels = np.array(train_labels_list)"
   ]
  },
  {
   "cell_type": "code",
   "execution_count": null,
   "metadata": {
    "colab": {
     "base_uri": "https://localhost:8080/"
    },
    "id": "G4Xt94CLUDme",
    "outputId": "4d31c926-b2e8-40d7-ae46-1ee0432eaad0"
   },
   "outputs": [
    {
     "data": {
      "text/plain": [
       "((2691, 128), (2691,))"
      ]
     },
     "execution_count": 33,
     "metadata": {
      "tags": []
     },
     "output_type": "execute_result"
    }
   ],
   "source": [
    "train_features.shape, train_labels.shape"
   ]
  },
  {
   "cell_type": "code",
   "execution_count": null,
   "metadata": {
    "id": "6mGO0Z6cT_O0"
   },
   "outputs": [],
   "source": [
    "test_features = test_x\n",
    "test_labels = test_y"
   ]
  },
  {
   "cell_type": "markdown",
   "metadata": {
    "id": "BxOyuk0bUf_D"
   },
   "source": [
    "## Final Prediction on test data"
   ]
  },
  {
   "cell_type": "code",
   "execution_count": null,
   "metadata": {
    "id": "Ka9LzbARUGVE"
   },
   "outputs": [],
   "source": [
    "from sklearn.svm import SVC\n",
    "#'rbf,'‘sigmoid’,,probability=True\n",
    "tuned_model = SVC(C=0.1, kernel='linear', probability=True)"
   ]
  },
  {
   "cell_type": "code",
   "execution_count": null,
   "metadata": {
    "id": "Mso14C7KUGX4"
   },
   "outputs": [],
   "source": [
    "tuned_model.fit(train_features, train_labels)\n",
    "\n",
    "features_train_1 = tuned_model.predict(train_features)\n",
    "features_train_1 = features_train_1.reshape(features_train_1.shape[0],-1)"
   ]
  },
  {
   "cell_type": "code",
   "execution_count": null,
   "metadata": {
    "id": "x10HO6lfUGa_"
   },
   "outputs": [],
   "source": [
    "features_test_1 = model_train.predict(test_features)"
   ]
  },
  {
   "cell_type": "code",
   "execution_count": null,
   "metadata": {
    "id": "mMVd3cdDUGfe"
   },
   "outputs": [],
   "source": [
    "features_test_1= tuned_model.predict(features_test_1)\n",
    "features_test_1 = features_test_1.reshape(features_test_1.shape[0],-1)"
   ]
  },
  {
   "cell_type": "code",
   "execution_count": null,
   "metadata": {
    "colab": {
     "base_uri": "https://localhost:8080/"
    },
    "id": "TfRx82G3UGij",
    "outputId": "7640f782-cc89-4be0-ef4c-18ca762024db"
   },
   "outputs": [
    {
     "name": "stdout",
     "output_type": "stream",
     "text": [
      "Accuracy =  0.983097304705345\n"
     ]
    }
   ],
   "source": [
    "from sklearn import metrics\n",
    "print (\"Accuracy = \", metrics.accuracy_score(test_labels, features_test_1))"
   ]
  },
  {
   "cell_type": "code",
   "execution_count": null,
   "metadata": {
    "colab": {
     "base_uri": "https://localhost:8080/"
    },
    "id": "Yw6GcYk6UGkl",
    "outputId": "5839de6f-2983-4451-e093-cc0c533c872e"
   },
   "outputs": [
    {
     "name": "stdout",
     "output_type": "stream",
     "text": [
      "Confusion Matrix:[[1737    4]\n",
      " [  33  415]]\n",
      "Classification Report:              precision    recall  f1-score   support\n",
      "\n",
      "           0       0.98      1.00      0.99      1741\n",
      "           1       0.99      0.93      0.96       448\n",
      "\n",
      "    accuracy                           0.98      2189\n",
      "   macro avg       0.99      0.96      0.97      2189\n",
      "weighted avg       0.98      0.98      0.98      2189\n",
      "\n"
     ]
    }
   ],
   "source": [
    "from sklearn.metrics import precision_score, recall_score, confusion_matrix, classification_report, accuracy_score, f1_score\n",
    "    \n",
    "print('Confusion Matrix:' + str(confusion_matrix(test_labels, features_test_1)))\n",
    "print('Classification Report:' + str(classification_report(test_labels, features_test_1)))"
   ]
  },
  {
   "cell_type": "markdown",
   "metadata": {
    "id": "yXb92ns_USul"
   },
   "source": [
    "## Evaluation Metrics on Training Set\n",
    "\n",
    "\n",
    "\n",
    "### Precision Recall Vs Threshold Curve "
   ]
  },
  {
   "cell_type": "code",
   "execution_count": null,
   "metadata": {
    "id": "NsgMjpS6UGpl"
   },
   "outputs": [],
   "source": [
    "from sklearn.model_selection import cross_val_predict\n",
    "y_values = cross_val_predict(tuned_model, train_features,train_labels, cv=3,method=\"decision_function\")"
   ]
  },
  {
   "cell_type": "markdown",
   "metadata": {
    "id": "YRc4xEATYCN9"
   },
   "source": []
  },
  {
   "cell_type": "code",
   "execution_count": null,
   "metadata": {
    "id": "UgHBhDKBUzsA"
   },
   "outputs": [],
   "source": [
    "from sklearn.metrics import precision_recall_curve\n",
    "from sklearn.metrics import precision_score, recall_score\n",
    "\n",
    "precisions, recalls, thresholds = precision_recall_curve(train_labels, y_values)"
   ]
  },
  {
   "cell_type": "code",
   "execution_count": null,
   "metadata": {
    "colab": {
     "base_uri": "https://localhost:8080/",
     "height": 400
    },
    "id": "yrfS5OUmUzu_",
    "outputId": "a90ea0dd-fba5-4574-e9c4-85bbde22998f"
   },
   "outputs": [
    {
     "data": {
      "image/png": "[encoded data removed]",
      "text/plain": [
       "<Figure size 720x432 with 1 Axes>"
      ]
     },
     "metadata": {
      "needs_background": "light",
      "tags": []
     },
     "output_type": "display_data"
    }
   ],
   "source": [
    "def plot_precision_recall_vs_threshold(precisions, recalls, thresholds):\n",
    "    plt.plot(thresholds, recalls[:-1], label=\"Recall\", linewidth=2)\n",
    "    plt.plot(thresholds, precisions[:-1], label=\"Precision\", linewidth=2)\n",
    "    plt.axis([-1.5,2.5, 0, 1.2])     \n",
    "    plt.grid(True)      \n",
    "    plt.legend(loc=\"lower left\", fontsize=16)\n",
    "    plt.xlabel(\"Threshold\", fontsize=18)      \n",
    "                        \n",
    "\n",
    "recall_precision = recalls[np.argmax(precisions >= 0.90)]\n",
    "threshold_precision = thresholds[np.argmax(precisions >= 0.90)]\n",
    "\n",
    "plt.figure(figsize=(10, 6))             \n",
    "plot_precision_recall_vs_threshold(precisions, recalls, thresholds)\n",
    "plt.plot([-1.5, threshold_precision], [recall_precision, recall_precision], \"r:\")\n",
    "plt.plot([-1.5, threshold_precision], [0.9, 0.9], \"r:\")                               \n",
    "plt.plot([threshold_precision], [recall_precision], \"ro\")\n",
    "plt.plot([threshold_precision, threshold_precision], [0.9,0], \"r:\")      \n",
    "plt.plot([threshold_precision], [0.9], \"ro\")                                             \n",
    "plt.show()"
   ]
  },
  {
   "cell_type": "code",
   "execution_count": null,
   "metadata": {
    "colab": {
     "base_uri": "https://localhost:8080/"
    },
    "id": "tomC0kBgbiGx",
    "outputId": "9e5a5615-3dc4-4f73-826c-afbc4917774a"
   },
   "outputs": [
    {
     "data": {
      "text/plain": [
       "0.19359838125909512"
      ]
     },
     "execution_count": 44,
     "metadata": {
      "tags": []
     },
     "output_type": "execute_result"
    }
   ],
   "source": [
    "threshold_precision = thresholds[np.argmax(precisions >= 0.90)]\n",
    "threshold_precision"
   ]
  },
  {
   "cell_type": "code",
   "execution_count": null,
   "metadata": {
    "id": "6CwYfxWBbFZl"
   },
   "outputs": [],
   "source": [
    "y_train_pred = (y_values >= threshold_precision)"
   ]
  },
  {
   "cell_type": "code",
   "execution_count": null,
   "metadata": {
    "colab": {
     "base_uri": "https://localhost:8080/"
    },
    "id": "WEuRluuNafR4",
    "outputId": "b4636072-22e3-49c5-d5a8-1d98b0f96ce9"
   },
   "outputs": [
    {
     "data": {
      "text/plain": [
       "0.9002991026919243"
      ]
     },
     "execution_count": 46,
     "metadata": {
      "tags": []
     },
     "output_type": "execute_result"
    }
   ],
   "source": [
    "precision_score=precision_score(train_labels, y_train_pred)\n",
    "precision_score"
   ]
  },
  {
   "cell_type": "code",
   "execution_count": null,
   "metadata": {
    "colab": {
     "base_uri": "https://localhost:8080/"
    },
    "id": "p3C3axFEafUe",
    "outputId": "1862d137-5991-4736-f62d-55a7826563ca"
   },
   "outputs": [
    {
     "data": {
      "text/plain": [
       "0.8657718120805369"
      ]
     },
     "execution_count": 47,
     "metadata": {
      "tags": []
     },
     "output_type": "execute_result"
    }
   ],
   "source": [
    "recall_score=recall_score(train_labels, y_train_pred)\n",
    "recall_score"
   ]
  },
  {
   "cell_type": "markdown",
   "metadata": {
    "id": "b_3hQpK7XvBd"
   },
   "source": [
    "## Precision vs Recall Curve"
   ]
  },
  {
   "cell_type": "code",
   "execution_count": null,
   "metadata": {
    "id": "88LrjMncYmP9"
   },
   "outputs": [],
   "source": [
    "from sklearn.metrics import roc_curve\n",
    "\n",
    "fpr, tpr, thresholds = roc_curve(train_labels, y_values)"
   ]
  },
  {
   "cell_type": "code",
   "execution_count": null,
   "metadata": {
    "colab": {
     "base_uri": "https://localhost:8080/"
    },
    "id": "pFyta9ywZuAl",
    "outputId": "1d784454-90cd-42f2-f503-761f7ccc7ebf"
   },
   "outputs": [
    {
     "data": {
      "text/plain": [
       "0.9758991985404314"
      ]
     },
     "execution_count": 49,
     "metadata": {
      "tags": []
     },
     "output_type": "execute_result"
    }
   ],
   "source": [
    "from sklearn.metrics import roc_auc_score\n",
    "\n",
    "roc_auc_score=roc_auc_score(train_labels, y_values)\n",
    "roc_auc_score"
   ]
  },
  {
   "cell_type": "code",
   "execution_count": null,
   "metadata": {
    "colab": {
     "base_uri": "https://localhost:8080/",
     "height": 397
    },
    "id": "Gebqtf4HYJE3",
    "outputId": "254050e0-b5e8-4a20-f658-2faec5a69e23"
   },
   "outputs": [
    {
     "data": {
      "image/png": "[encoded data removed]",
      "text/plain": [
       "<Figure size 576x432 with 1 Axes>"
      ]
     },
     "metadata": {
      "needs_background": "light",
      "tags": []
     },
     "output_type": "display_data"
    }
   ],
   "source": [
    "def plot_precision_vs_recall(precisions, recalls):\n",
    "    plt.axis([0,1.1,0.4,1.1])\n",
    "    plt.grid(True)\n",
    "    plt.xlabel(\"Recall\", fontsize=16,)\n",
    "    plt.ylabel(\"Precision\", fontsize=16)\n",
    "    plt.plot(recalls, precisions, linewidth=2)\n",
    "    plt.legend(loc=\"lower left\", fontsize=16)\n",
    "\n",
    "# label='Precision Score=%0.3f'%precision_score \n",
    "# label='Recall Score=%0.3f'%recall_score\n",
    "\n",
    "plt.figure(figsize=(8, 6))\n",
    "plt.plot([recall_precision, recall_precision], [0., 0.9], \"r:\",label='Recall Score=%0.3f'%recall_score)\n",
    "plt.plot([0.0, recall_precision], [0.9, 0.9], \"b:\",label='Precision Score=%0.3f'%precision_score )\n",
    "plot_precision_vs_recall(precisions, recalls)\n",
    "plt.plot([recall_precision], [0.9], \"ro\")\n",
    "\n",
    "plt.show()"
   ]
  },
  {
   "cell_type": "markdown",
   "metadata": {
    "id": "k9n7qO9EX2Bs"
   },
   "source": [
    "## True Positive vs False Positive Curve"
   ]
  },
  {
   "cell_type": "code",
   "execution_count": null,
   "metadata": {
    "colab": {
     "base_uri": "https://localhost:8080/",
     "height": 393
    },
    "id": "1DXD5w24YgaB",
    "outputId": "0ab1392f-e744-4aa3-b7cf-7e6f4da0e953"
   },
   "outputs": [
    {
     "data": {
      "image/png": "[encoded data removed]",
      "text/plain": [
       "<Figure size 576x432 with 1 Axes>"
      ]
     },
     "metadata": {
      "needs_background": "light",
      "tags": []
     },
     "output_type": "display_data"
    }
   ],
   "source": [
    "def plot_roc_curve(fpr, tpr, label=None):\n",
    "    plt.plot(fpr, tpr, linewidth=2,label='roc_auc_score(auc=%0.3f)' % roc_auc_score)\n",
    "    plt.plot([0, 1], [0, 1], 'k--', label= 'Base Line') \n",
    "    plt.xlabel('False Positive Rate ', fontsize=16) \n",
    "    plt.ylabel('True Positive Rate', fontsize=16)    \n",
    "    plt.legend(loc=\"lower right\", fontsize=16)\n",
    "    plt.grid(True)                                     \n",
    "\n",
    "plt.figure(figsize=(8, 6))                                  \n",
    "plot_roc_curve(fpr, tpr)\n",
    "fpr_1 = fpr[np.argmax(tpr >= recall_precision)]          \n",
    "plt.plot([fpr_1], [recall_precision], \"ro\")              \n",
    "plt.plot([0.0, fpr_1], [recall_precision, recall_precision], \"r:\")  \n",
    "plt.plot([fpr_1, fpr_1], [0., recall_precision], \"r:\")   \n",
    "plt.show()"
   ]
  },
  {
   "cell_type": "markdown",
   "metadata": {
    "id": "Bb8lX7EpN1Mx"
   },
   "source": [
    "## Evaluation Metrics on Testing Set\n",
    "\n",
    "\n",
    "\n",
    "### Precision Recall Vs Threshold Curve "
   ]
  },
  {
   "cell_type": "code",
   "execution_count": null,
   "metadata": {
    "id": "FGvG_H9bTuIs"
   },
   "outputs": [],
   "source": [
    "from sklearn.metrics import roc_curve, roc_auc_score"
   ]
  },
  {
   "cell_type": "code",
   "execution_count": null,
   "metadata": {
    "id": "75nUHfuunT4M"
   },
   "outputs": [],
   "source": [
    "svm_prob_train = tuned_model.predict_proba(train_features)\n",
    "\n",
    "features_test_2 = model_train.predict(test_features)\n",
    "svm_prob = tuned_model.predict_proba(features_test_2)"
   ]
  },
  {
   "cell_type": "code",
   "execution_count": null,
   "metadata": {
    "id": "vPn770Z6nT6l"
   },
   "outputs": [],
   "source": [
    "svm_prob_train = svm_prob_train[:,1]\n",
    "svm_prob = svm_prob[:,1]"
   ]
  },
  {
   "cell_type": "code",
   "execution_count": null,
   "metadata": {
    "id": "RiDq4NNcnT9Y"
   },
   "outputs": [],
   "source": [
    "AUC_prob_train = roc_auc_score(train_labels, svm_prob_train)\n",
    "AUC_prob = roc_auc_score(test_labels, svm_prob)"
   ]
  },
  {
   "cell_type": "code",
   "execution_count": null,
   "metadata": {
    "colab": {
     "base_uri": "https://localhost:8080/",
     "height": 457
    },
    "id": "YpwdaDvbnT_u",
    "outputId": "d87d7c58-88d4-4265-ae22-b94392611575"
   },
   "outputs": [
    {
     "data": {
      "image/png": "[encoded data removed]",
      "text/plain": [
       "<Figure size 500x500 with 1 Axes>"
      ]
     },
     "metadata": {
      "needs_background": "light",
      "tags": []
     },
     "output_type": "display_data"
    }
   ],
   "source": [
    "from sklearn.metrics import roc_curve, auc\n",
    "\n",
    "fpr_train,tpr_train, threshold = roc_curve(train_labels,svm_prob_train)\n",
    "auc_train = auc(fpr_train, tpr_train)\n",
    "\n",
    "fpr,tpr, threshold = roc_curve(test_labels, svm_prob)\n",
    "auc_test = auc(fpr,tpr)\n",
    "\n",
    "plt.figure(figsize=(5,5), dpi =100)\n",
    "plt.plot(fpr_train,tpr_train,linestyle='-', label='svm_train(auc=%0.3f)' % AUC_prob_train)\n",
    "plt.plot(fpr,tpr,linestyle='-', label='svm_test(auc=%0.3f)' % AUC_prob)\n",
    "\n",
    "plt.plot([0,1],[0,1],c='k', label = 'base line')\n",
    "\n",
    "\n",
    "plt.xlabel('False Positive rate')\n",
    "plt.ylabel('True positive rate')\n",
    "\n",
    "plt.legend()\n",
    "plt.show()"
   ]
  }
 ],
 "metadata": {
  "accelerator": "GPU",
  "colab": {
   "collapsed_sections": [],
   "machine_shape": "hm",
   "name": "Final UMN Crowd_Anomaly.ipynb",
   "provenance": []
  },
  "kernelspec": {
   "display_name": "Python 3",
   "language": "python",
   "name": "python3"
  },
  "language_info": {
   "codemirror_mode": {
    "name": "ipython",
    "version": 3
   },
   "file_extension": ".py",
   "mimetype": "text/x-python",
   "name": "python",
   "nbconvert_exporter": "python",
   "pygments_lexer": "ipython3",
   "version": "3.7.4"
  }
 },
 "nbformat": 4,
 "nbformat_minor": 1
}
