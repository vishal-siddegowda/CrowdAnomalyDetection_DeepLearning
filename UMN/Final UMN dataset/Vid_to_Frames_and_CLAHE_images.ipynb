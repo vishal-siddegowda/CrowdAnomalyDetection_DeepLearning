{
 "cells": [
  {
   "cell_type": "code",
   "execution_count": 1,
   "metadata": {},
   "outputs": [],
   "source": [
    "import cv2\n",
    "import os"
   ]
  },
  {
   "cell_type": "code",
   "execution_count": 2,
   "metadata": {},
   "outputs": [],
   "source": [
    "#Converting video into image frames\n",
    "vidcap = cv2.VideoCapture('Crowd-Activity-All.avi')\n",
    "def getFrame(sec):\n",
    "    vidcap.set(cv2.CAP_PROP_POS_MSEC,sec*1000)\n",
    "    hasFrames,image = vidcap.read()\n",
    "    if hasFrames:\n",
    "        cv2.imwrite(\"/Users/visha/Documents/MSDSAI/Dissertation/Dataset/UMN_Data/trial_two/main_dataset/\"+str(count)+\".jpg\", image)     # save frame as JPG file\n",
    "    return hasFrames\n",
    "sec = 0\n",
    "frameRate = 0.05 #captureing images at 0.05 second\n",
    "count=1\n",
    "success = getFrame(sec)\n",
    "while success:\n",
    "    count = count + 1\n",
    "    sec = sec + frameRate\n",
    "    sec = round(sec, 2)\n",
    "    success = getFrame(sec)"
   ]
  },
  {
   "cell_type": "code",
   "execution_count": null,
   "metadata": {},
   "outputs": [],
   "source": [
    "C:\\Users\\visha\\Documents\\MSDSAI\\Dissertation\\Dataset\\CAD\\main_dataset\n",
    "    C:\\Users\\visha\\Documents\\MSDSAI\\Dissertation\\Dataset\\UMN_Data\\trial_two\\trial_2_UMN_CHALE_5159\\train_UMN_clahe"
   ]
  },
  {
   "cell_type": "code",
   "execution_count": 6,
   "metadata": {},
   "outputs": [],
   "source": [
    "#Converting original images into CLAHE images\n",
    "def orig_to_clahe():\n",
    "    \n",
    "    out_path = '/Users/visha/Documents/MSDSAI/Dissertation/Dataset/UMN_Data/trial_two/trial_2_UMN_CHALE_5159/train_UMN_clahe/'\n",
    "    #out_path = '/Users/visha/Documents/MSDSAI/Dissertation/Dataset/UMN_Data/trial_two/trial_2_UMN_CHALE_5159/test_UMN_clahe/'\n",
    "\n",
    "    in_path = '/Users/visha/Documents/MSDSAI/Dissertation/Dataset/UMN_Data/trial_two/main_dataset/'\n",
    "    \n",
    "    for path in os.listdir(in_path):\n",
    "        \n",
    "        input_path = os.path.join(in_path,path)\n",
    "        img = cv2.imread(input_path, 1)\n",
    "        \n",
    "        img= cv2.cvtColor(img, cv2.COLOR_BGR2LAB)\n",
    "        l, a, b = cv2.split(img)\n",
    "        \n",
    "        #Apply CLAHE to L channel\n",
    "        clahe = cv2.createCLAHE(clipLimit=3.0, tileGridSize=(8,8))\n",
    "        clahe_img = clahe.apply(l)\n",
    "\n",
    "        #Combining the CLAHE enhanced L-channel back with A and B channels\n",
    "        updated_img = cv2.merge((clahe_img,a,b))\n",
    "\n",
    "        #Convert LAB image back to color (RGB)\n",
    "        CLAHE_img = cv2.cvtColor(updated_img, cv2.COLOR_LAB2BGR)\n",
    "\n",
    "        output_path = os.path.join(out_path, 'Clahe_'+path)\n",
    "        cv2.imwrite(output_path, CLAHE_img)"
   ]
  },
  {
   "cell_type": "code",
   "execution_count": 7,
   "metadata": {},
   "outputs": [],
   "source": [
    "orig_to_clahe()"
   ]
  },
  {
   "cell_type": "code",
   "execution_count": null,
   "metadata": {},
   "outputs": [],
   "source": []
  },
  {
   "cell_type": "code",
   "execution_count": null,
   "metadata": {},
   "outputs": [],
   "source": []
  },
  {
   "cell_type": "code",
   "execution_count": null,
   "metadata": {},
   "outputs": [],
   "source": []
  }
 ],
 "metadata": {
  "kernelspec": {
   "display_name": "Python 3",
   "language": "python",
   "name": "python3"
  },
  "language_info": {
   "codemirror_mode": {
    "name": "ipython",
    "version": 3
   },
   "file_extension": ".py",
   "mimetype": "text/x-python",
   "name": "python",
   "nbconvert_exporter": "python",
   "pygments_lexer": "ipython3",
   "version": "3.7.4"
  }
 },
 "nbformat": 4,
 "nbformat_minor": 2
}
