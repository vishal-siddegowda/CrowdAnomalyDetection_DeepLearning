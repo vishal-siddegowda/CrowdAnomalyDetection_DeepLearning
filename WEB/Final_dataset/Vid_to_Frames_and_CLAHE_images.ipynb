{
 "cells": [
  {
   "cell_type": "code",
   "execution_count": 1,
   "metadata": {},
   "outputs": [],
   "source": [
    "#Importing basic openCV libraries\n",
    "import cv2\n",
    "import os"
   ]
  },
  {
   "cell_type": "code",
   "execution_count": 4,
   "metadata": {},
   "outputs": [
    {
     "name": "stdout",
     "output_type": "stream",
     "text": [
      "1183-88_l.mov\n",
      "2010-291_l.avi\n",
      "2014-140_l.avi\n",
      "2017-420_l.mov\n",
      "263C044_060_c.mov\n",
      "263C044_064_c.mov\n",
      "3452204_031_c.mov\n",
      "490-208_l.mov\n",
      "Thumbs.db\n"
     ]
    }
   ],
   "source": [
    "#Displaying All the available video files\n",
    "vid='/Users/visha/Documents/MSDSAI/Dissertation/Dataset/Web_data/Final_dataset/Web_Video_Dataset/'\n",
    "for file in os.listdir(vid):\n",
    "    print(file)"
   ]
  },
  {
   "cell_type": "code",
   "execution_count": 11,
   "metadata": {},
   "outputs": [],
   "source": [
    "#Converting video into image frames using videos from list of files from above\n",
    "vidcap = cv2.VideoCapture('/Users/visha/Documents/MSDSAI/Dissertation/Dataset/Web_data/Final_dataset/Web_Video_Dataset/Abnormal Crowds/3452204_031_c.mov')\n",
    "def getFrame(sec):\n",
    "    vidcap.set(cv2.CAP_PROP_POS_MSEC,sec*1000)\n",
    "    hasFrames,image = vidcap.read()\n",
    "    if hasFrames:\n",
    "        cv2.imwrite(\"/Users/visha/Documents/MSDSAI/Dissertation/Dataset/Web_data/Final_dataset/Orig_Img_Data/Test/Abnormal Crowds/\"+str(count)+\".jpg\", image)  \n",
    "      #cv2.imwrite(\"/Users/visha/Documents/MSDSAI/Dissertation/Dataset/Web_data/Final_dataset/Orig_Img_Data/Train/Abnormal Crowds/\"+str(count)+\".jpg\", image)         \n",
    "    return hasFrames\n",
    "sec = 0\n",
    "frameRate =0.05 \n",
    "count=1\n",
    "success = getFrame(sec)\n",
    "while success:\n",
    "    count = count + 1\n",
    "    sec = sec + frameRate\n",
    "    sec = round(sec, 2)\n",
    "    success = getFrame(sec)"
   ]
  },
  {
   "cell_type": "code",
   "execution_count": 12,
   "metadata": {},
   "outputs": [
    {
     "name": "stdout",
     "output_type": "stream",
     "text": [
      "341-46_l.mov\n",
      "3687-18_70.mov\n",
      "637-147_l.mov\n",
      "688-10_l.mov\n",
      "81872953_l.mov\n",
      "821-10_l.mov\n",
      "879-38_l.mov\n",
      "9019-13_l.mov\n",
      "906-17_l.mov\n",
      "CRW116.mov\n",
      "sfw20110024_l.mov\n",
      "shibuya1.mov\n"
     ]
    }
   ],
   "source": [
    "#Displaying All the available video files\n",
    "vid='/Users/visha/Documents/MSDSAI/Dissertation/Dataset/Web_data/Web_Video_Dataset/Normal Crowds/'\n",
    "for file in os.listdir(vid):\n",
    "    print(file)"
   ]
  },
  {
   "cell_type": "code",
   "execution_count": 26,
   "metadata": {},
   "outputs": [],
   "source": [
    "#Converting video into image frames\n",
    "vidcap = cv2.VideoCapture('/Users/visha/Documents/MSDSAI/Dissertation/Dataset/Web_data/Web_Video_Dataset/Normal Crowds/879-38_l.mov')\n",
    "def getFrame(sec):\n",
    "    vidcap.set(cv2.CAP_PROP_POS_MSEC,sec*1000)\n",
    "    hasFrames,image = vidcap.read()\n",
    "    if hasFrames:\n",
    "        cv2.imwrite(\"/Users/visha/Documents/MSDSAI/Dissertation/Dataset/Web_data/Final_dataset/Orig_Img_Data/Test/Normal Crowds/\"+str(count)+\".jpg\", image)  \n",
    "      #cv2.imwrite(\"/Users/visha/Documents/MSDSAI/Dissertation/Dataset/Web_data/Final_dataset/Orig_Img_Data/Train/Normal Crowds/\"+str(count)+\".jpg\", image)  \n",
    "    return hasFrames\n",
    "sec = 0\n",
    "frameRate =0.1 \n",
    "count=1\n",
    "success = getFrame(sec)\n",
    "while success:\n",
    "    count = count + 1\n",
    "    sec = sec + frameRate\n",
    "    sec = round(sec, 2)\n",
    "    success = getFrame(sec)"
   ]
  },
  {
   "cell_type": "code",
   "execution_count": 32,
   "metadata": {},
   "outputs": [],
   "source": [
    "#Function to convert original images into CLAHE images\n",
    "def orig_to_clahe_train():\n",
    "    \n",
    "    out_path = '/Users/visha/Documents/MSDSAI/Dissertation/Dataset/Web_data/Final_dataset/CLAHE_Img_Data/Train/Normal Crowds/'\n",
    "    #out_path = '/Users/visha/Documents/MSDSAI/Dissertation/Dataset/Web_data/Final_dataset/CLAHE_Img_Data/Train/Abnormal Crowds/'\n",
    "    in_path = '/Users/visha/Documents/MSDSAI/Dissertation/Dataset/Web_data/Final_dataset/Orig_Img_Data/Train/Normal Crowds/'\n",
    "    #in_path = '/Users/visha/Documents/MSDSAI/Dissertation/Dataset/Web_data/Final_dataset/Orig_Img_Data/Train/Abnormal Crowds/'\n",
    "\n",
    "    for path in os.listdir(in_path):\n",
    "        \n",
    "        input_path = os.path.join(in_path,path)\n",
    "        img = cv2.imread(input_path, 1)\n",
    "        \n",
    "        img= cv2.cvtColor(img, cv2.COLOR_BGR2LAB)\n",
    "        l, a, b = cv2.split(img)\n",
    "        \n",
    "        clahe = cv2.createCLAHE(clipLimit=3.0, tileGridSize=(8,8))\n",
    "        clahe_img = clahe.apply(l)\n",
    "\n",
    "        updated_img = cv2.merge((clahe_img,a,b))\n",
    "\n",
    "        CLAHE_img = cv2.cvtColor(updated_img, cv2.COLOR_LAB2BGR)\n",
    "\n",
    "        output_path = os.path.join(out_path, 'Clahe_'+path)\n",
    "        cv2.imwrite(output_path, CLAHE_img)"
   ]
  },
  {
   "cell_type": "code",
   "execution_count": 33,
   "metadata": {},
   "outputs": [],
   "source": [
    "orig_to_clahe_train()"
   ]
  },
  {
   "cell_type": "code",
   "execution_count": null,
   "metadata": {},
   "outputs": [],
   "source": []
  },
  {
   "cell_type": "code",
   "execution_count": 36,
   "metadata": {},
   "outputs": [],
   "source": [
    "#Function to convert original images into CLAHE images\n",
    "def orig_to_clahe_test():\n",
    "    \n",
    "    out_path = '/Users/visha/Documents/MSDSAI/Dissertation/Dataset/Web_data/Final_dataset/CLAHE_Img_Data/Test/Normal Crowds/'\n",
    "    #out_path = '/Users/visha/Documents/MSDSAI/Dissertation/Dataset/Web_data/Final_dataset/CLAHE_Img_Data/Test/Abnormal Crowds'\n",
    "    in_path = '/Users/visha/Documents/MSDSAI/Dissertation/Dataset/Web_data/Final_dataset/Orig_Img_Data/Test/Normal Crowds/'\n",
    "    #in_path = '/Users/visha/Documents/MSDSAI/Dissertation/Dataset/Web_data/Final_dataset/Orig_Img_Data/Test/Abnormal Crowds/'\n",
    "\n",
    "    for path in os.listdir(in_path):\n",
    "        \n",
    "        input_path = os.path.join(in_path,path)\n",
    "        img = cv2.imread(input_path, 1)\n",
    "        \n",
    "        img= cv2.cvtColor(img, cv2.COLOR_BGR2LAB)\n",
    "        l, a, b = cv2.split(img)\n",
    "        \n",
    "        clahe = cv2.createCLAHE(clipLimit=3.0, tileGridSize=(8,8))\n",
    "        clahe_img = clahe.apply(l)\n",
    "\n",
    "        updated_img = cv2.merge((clahe_img,a,b))\n",
    "\n",
    "        CLAHE_img = cv2.cvtColor(updated_img, cv2.COLOR_LAB2BGR)\n",
    "\n",
    "        output_path = os.path.join(out_path, 'Clahe_'+path)\n",
    "        cv2.imwrite(output_path, CLAHE_img)"
   ]
  },
  {
   "cell_type": "code",
   "execution_count": 37,
   "metadata": {},
   "outputs": [],
   "source": [
    "orig_to_clahe_test()"
   ]
  },
  {
   "cell_type": "code",
   "execution_count": null,
   "metadata": {},
   "outputs": [],
   "source": []
  }
 ],
 "metadata": {
  "kernelspec": {
   "display_name": "Python 3",
   "language": "python",
   "name": "python3"
  },
  "language_info": {
   "codemirror_mode": {
    "name": "ipython",
    "version": 3
   },
   "file_extension": ".py",
   "mimetype": "text/x-python",
   "name": "python",
   "nbconvert_exporter": "python",
   "pygments_lexer": "ipython3",
   "version": "3.7.4"
  }
 },
 "nbformat": 4,
 "nbformat_minor": 2
}
