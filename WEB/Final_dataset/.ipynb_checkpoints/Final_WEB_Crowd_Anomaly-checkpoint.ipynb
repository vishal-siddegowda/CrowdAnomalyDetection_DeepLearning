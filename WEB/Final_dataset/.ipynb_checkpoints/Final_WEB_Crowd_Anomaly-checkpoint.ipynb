{
 "cells": [
  {
   "cell_type": "code",
   "execution_count": null,
   "metadata": {
    "colab": {
     "base_uri": "https://localhost:8080/"
    },
    "id": "o_QTsPMhjm-l",
    "outputId": "b31c9453-c2be-4437-92b6-52c7bd37cefd"
   },
   "outputs": [
    {
     "name": "stdout",
     "output_type": "stream",
     "text": [
      "Drive already mounted at /content/gdrive; to attempt to forcibly remount, call drive.mount(\"/content/gdrive\", force_remount=True).\n"
     ]
    }
   ],
   "source": [
    "#Use this if google collab is used for the purpose of high RAM and GPU\n",
    "from google.colab import drive\n",
    "drive.mount('/content/gdrive')"
   ]
  },
  {
   "cell_type": "code",
   "execution_count": null,
   "metadata": {
    "colab": {
     "base_uri": "https://localhost:8080/"
    },
    "id": "W_-NK1vO_5Z5",
    "outputId": "5633a945-743d-475d-f910-66aa1f58bf12"
   },
   "outputs": [],
   "source": [
    "#Importing All the necessary libraries\n",
    "import numpy as np\n",
    "import os\n",
    "import cv2\n",
    "import matplotlib.pyplot as plt\n",
    "import tensorflow\n",
    "from tensorflow.keras import layers\n",
    "from tensorflow import keras\n",
    "from tensorflow.keras.layers import LeakyReLU\n",
    "from imblearn.over_sampling import RandomOverSampler\n",
    "from collections import Counter\n",
    "from tensorflow.keras.models import Sequential, Model, load_model \n",
    "import pickle"
   ]
  },
  {
   "cell_type": "markdown",
   "metadata": {},
   "source": [
    "## Data Pre-processing"
   ]
  },
  {
   "cell_type": "code",
   "execution_count": null,
   "metadata": {
    "id": "VpXDwvXqEECp"
   },
   "outputs": [],
   "source": [
    "# 0 => noramal crowd and 1 => abnormal crowd\n",
    "#Change the directory path as per your requirement\n",
    "\n",
    "base_dir = '/Users/visha/Documents/MSDSAI/Dissertation/Final Submission/WEB/Final_dataset/CLAHE_Img_Data/Train'\n",
    "categories_train = ['0','1']\n",
    "\n",
    "train_data = []\n",
    "\n",
    "def data_creation_train():\n",
    "  for category in categories_train:\n",
    "    path = os.path.join(base_dir,category)\n",
    "    labels=categories_train.index(category)\n",
    "    for img in os.listdir(path):\n",
    "      img_arr = cv2.imread(os.path.join(path,img),cv2.IMREAD_COLOR)\n",
    "      img_arr = cv2.resize(img_arr,(224,224))\n",
    "      new_img = cv2.cvtColor(img_arr, cv2.COLOR_RGB2BGR)\n",
    "      train_data.append([new_img,labels])\n",
    "  \n",
    "data_creation_train()"
   ]
  },
  {
   "cell_type": "code",
   "execution_count": null,
   "metadata": {
    "colab": {
     "base_uri": "https://localhost:8080/"
    },
    "id": "hqZXh8faG-dl",
    "outputId": "564158b9-c98e-4f3a-e39f-02f8c5a20912"
   },
   "outputs": [
    {
     "name": "stdout",
     "output_type": "stream",
     "text": [
      "2691\n"
     ]
    }
   ],
   "source": [
    "print(len(train_data))"
   ]
  },
  {
   "cell_type": "code",
   "execution_count": null,
   "metadata": {
    "id": "4DjTGiuOGe_v"
   },
   "outputs": [],
   "source": [
    "# 0 => noramal crowd and 1 => abnormal crowd\n",
    "#Change the directory path as per your requirement\n",
    "\n",
    "base_dir = '/Users/visha/Documents/MSDSAI/Dissertation/Final Submission/WEB/Final_dataset/CLAHE_Img_Data/Test'\n",
    "\n",
    "categories_test = ['0','1']\n",
    "\n",
    "test_data = []\n",
    "\n",
    "def data_creation_test():\n",
    "  for category in categories_test:\n",
    "    path = os.path.join(base_dir,category)\n",
    "    labels=categories_test.index(category)\n",
    "    for img in os.listdir(path):\n",
    "\n",
    "      img_arr = cv2.imread(os.path.join(path,img),cv2.IMREAD_COLOR)\n",
    "      img_arr = cv2.resize(img_arr,(224,224))\n",
    "      new_img = cv2.cvtColor(img_arr, cv2.COLOR_RGB2BGR)\n",
    "      \n",
    "      test_data.append([new_img,labels])\n",
    "    \n",
    "data_creation_test()"
   ]
  },
  {
   "cell_type": "code",
   "execution_count": null,
   "metadata": {
    "colab": {
     "base_uri": "https://localhost:8080/"
    },
    "id": "N3P-JXhjHDGO",
    "outputId": "62e914b0-8f93-4895-c958-4aa1108c73f5"
   },
   "outputs": [
    {
     "name": "stdout",
     "output_type": "stream",
     "text": [
      "2140\n"
     ]
    }
   ],
   "source": [
    "print(len(test_data))"
   ]
  },
  {
   "cell_type": "code",
   "execution_count": null,
   "metadata": {
    "id": "0hx5HFcGQMdd"
   },
   "outputs": [],
   "source": [
    "#Applying random shuffling on train and test data\n",
    "import random\n",
    "random.shuffle(train_data)\n",
    "random.shuffle(test_data)"
   ]
  },
  {
   "cell_type": "code",
   "execution_count": null,
   "metadata": {
    "id": "Tj1tBHjXAsGg"
   },
   "outputs": [],
   "source": [
    "x = []\n",
    "y = []\n",
    "x1=[]\n",
    "y1=[]"
   ]
  },
  {
   "cell_type": "code",
   "execution_count": null,
   "metadata": {
    "id": "hYleHa1nAsI5"
   },
   "outputs": [],
   "source": [
    "#Appending all the desired data into lists\n",
    "for features,labels in train_data:\n",
    "  x.append(features)\n",
    "  y.append(labels)\n",
    "    \n",
    "for features,labels in test_data:\n",
    "  x1.append(features)\n",
    "  y1.append(labels)"
   ]
  },
  {
   "cell_type": "code",
   "execution_count": null,
   "metadata": {
    "id": "NZXqFZQWbTxr"
   },
   "outputs": [],
   "source": [
    "#Converting the list into array before introducing into core network\n",
    "x = np.array(x)\n",
    "y = np.array(y)\n",
    "x1 = np.array(x1)\n",
    "y1 = np.array(y1)"
   ]
  },
  {
   "cell_type": "code",
   "execution_count": null,
   "metadata": {
    "colab": {
     "base_uri": "https://localhost:8080/"
    },
    "id": "V5tZWMF-RL1Z",
    "outputId": "921fd338-85e5-4412-ef98-40a8ec97cd49"
   },
   "outputs": [
    {
     "data": {
      "text/plain": [
       "((2691, 224, 224, 3), (2691,), (2140, 224, 224, 3), (2140,))"
      ]
     },
     "execution_count": 12,
     "metadata": {
      "tags": []
     },
     "output_type": "execute_result"
    }
   ],
   "source": [
    "x.shape,y.shape, x1.shape, y1.shape"
   ]
  },
  {
   "cell_type": "code",
   "execution_count": null,
   "metadata": {
    "id": "YWxPQ_IAjcSa"
   },
   "outputs": [],
   "source": [
    "#Normalizing the traina and test data\n",
    "train_x=x/255.0\n",
    "test_x=x1/255.0\n",
    "train_y = y\n",
    "test_y = y1"
   ]
  },
  {
   "cell_type": "code",
   "execution_count": null,
   "metadata": {
    "colab": {
     "base_uri": "https://localhost:8080/"
    },
    "id": "ijg57gB0fp1I",
    "outputId": "7f2d61bb-87d8-4b7d-bbc0-ab3768c790bd"
   },
   "outputs": [
    {
     "data": {
      "text/plain": [
       "((2691, 224, 224, 3), (2691,), (2140, 224, 224, 3), (2140,))"
      ]
     },
     "execution_count": 14,
     "metadata": {
      "tags": []
     },
     "output_type": "execute_result"
    }
   ],
   "source": [
    "train_x.shape,train_y.shape,test_x.shape,test_y.shape"
   ]
  },
  {
   "cell_type": "code",
   "execution_count": null,
   "metadata": {
    "colab": {
     "base_uri": "https://localhost:8080/"
    },
    "id": "7qZUjTGZf3Dt",
    "outputId": "9195c812-f580-4c31-b84a-6429736aba7a"
   },
   "outputs": [
    {
     "name": "stdout",
     "output_type": "stream",
     "text": [
      "Downloading data from https://storage.googleapis.com/tensorflow/keras-applications/vgg16/vgg16_weights_tf_dim_ordering_tf_kernels_notop.h5\n",
      "58892288/58889256 [==============================] - 1s 0us/step\n"
     ]
    }
   ],
   "source": [
    "#Importing pre-trained VGG19 model\n",
    "from tensorflow.keras.applications import VGG16\n",
    "\n",
    "model = VGG16(weights='imagenet', include_top=False, input_shape=(224,224,3))"
   ]
  },
  {
   "cell_type": "code",
   "execution_count": null,
   "metadata": {
    "colab": {
     "base_uri": "https://localhost:8080/"
    },
    "id": "ANAlTxg2XO-L",
    "outputId": "228f4636-b400-48dc-eede-aef0b207b2e8"
   },
   "outputs": [
    {
     "name": "stdout",
     "output_type": "stream",
     "text": [
      "Model: \"vgg16\"\n",
      "_________________________________________________________________\n",
      "Layer (type)                 Output Shape              Param #   \n",
      "=================================================================\n",
      "input_1 (InputLayer)         [(None, 224, 224, 3)]     0         \n",
      "_________________________________________________________________\n",
      "block1_conv1 (Conv2D)        (None, 224, 224, 64)      1792      \n",
      "_________________________________________________________________\n",
      "block1_conv2 (Conv2D)        (None, 224, 224, 64)      36928     \n",
      "_________________________________________________________________\n",
      "block1_pool (MaxPooling2D)   (None, 112, 112, 64)      0         \n",
      "_________________________________________________________________\n",
      "block2_conv1 (Conv2D)        (None, 112, 112, 128)     73856     \n",
      "_________________________________________________________________\n",
      "block2_conv2 (Conv2D)        (None, 112, 112, 128)     147584    \n",
      "_________________________________________________________________\n",
      "block2_pool (MaxPooling2D)   (None, 56, 56, 128)       0         \n",
      "_________________________________________________________________\n",
      "block3_conv1 (Conv2D)        (None, 56, 56, 256)       295168    \n",
      "_________________________________________________________________\n",
      "block3_conv2 (Conv2D)        (None, 56, 56, 256)       590080    \n",
      "_________________________________________________________________\n",
      "block3_conv3 (Conv2D)        (None, 56, 56, 256)       590080    \n",
      "_________________________________________________________________\n",
      "block3_pool (MaxPooling2D)   (None, 28, 28, 256)       0         \n",
      "_________________________________________________________________\n",
      "block4_conv1 (Conv2D)        (None, 28, 28, 512)       1180160   \n",
      "_________________________________________________________________\n",
      "block4_conv2 (Conv2D)        (None, 28, 28, 512)       2359808   \n",
      "_________________________________________________________________\n",
      "block4_conv3 (Conv2D)        (None, 28, 28, 512)       2359808   \n",
      "_________________________________________________________________\n",
      "block4_pool (MaxPooling2D)   (None, 14, 14, 512)       0         \n",
      "_________________________________________________________________\n",
      "block5_conv1 (Conv2D)        (None, 14, 14, 512)       2359808   \n",
      "_________________________________________________________________\n",
      "block5_conv2 (Conv2D)        (None, 14, 14, 512)       2359808   \n",
      "_________________________________________________________________\n",
      "block5_conv3 (Conv2D)        (None, 14, 14, 512)       2359808   \n",
      "_________________________________________________________________\n",
      "block5_pool (MaxPooling2D)   (None, 7, 7, 512)         0         \n",
      "=================================================================\n",
      "Total params: 14,714,688\n",
      "Trainable params: 14,714,688\n",
      "Non-trainable params: 0\n",
      "_________________________________________________________________\n"
     ]
    }
   ],
   "source": [
    "model.summary()"
   ]
  },
  {
   "cell_type": "code",
   "execution_count": null,
   "metadata": {
    "id": "rbwox1vsXPA4"
   },
   "outputs": [],
   "source": [
    "#Stacking a fine tuned layer for core model \n",
    "from tensorflow.keras.layers import Dropout\n",
    "from tensorflow.keras import regularizers\n",
    "\n",
    "x = layers.Flatten()(model.output)\n",
    "x = layers.Dense(128, activation='relu')(x)\n",
    "x = layers.Dense(64, activation='relu',kernel_regularizer = regularizers.l2(0.01))(x)\n",
    "x = layers.Dropout(0.5)(x)\n",
    "\n",
    "x = layers.Dense(1, activation='sigmoid')(x)\n",
    "\n",
    "final_model_train = tensorflow.keras.models.Model(model.input, x)"
   ]
  },
  {
   "cell_type": "code",
   "execution_count": null,
   "metadata": {
    "colab": {
     "base_uri": "https://localhost:8080/"
    },
    "id": "FOja3IFJ5c8J",
    "outputId": "a4b209d4-9a62-4245-bbcb-2f3d1b8fe9dc"
   },
   "outputs": [
    {
     "name": "stdout",
     "output_type": "stream",
     "text": [
      "Model: \"vgg16\"\n",
      "_________________________________________________________________\n",
      "Layer (type)                 Output Shape              Param #   \n",
      "=================================================================\n",
      "input_1 (InputLayer)         [(None, 224, 224, 3)]     0         \n",
      "_________________________________________________________________\n",
      "block1_conv1 (Conv2D)        (None, 224, 224, 64)      1792      \n",
      "_________________________________________________________________\n",
      "block1_conv2 (Conv2D)        (None, 224, 224, 64)      36928     \n",
      "_________________________________________________________________\n",
      "block1_pool (MaxPooling2D)   (None, 112, 112, 64)      0         \n",
      "_________________________________________________________________\n",
      "block2_conv1 (Conv2D)        (None, 112, 112, 128)     73856     \n",
      "_________________________________________________________________\n",
      "block2_conv2 (Conv2D)        (None, 112, 112, 128)     147584    \n",
      "_________________________________________________________________\n",
      "block2_pool (MaxPooling2D)   (None, 56, 56, 128)       0         \n",
      "_________________________________________________________________\n",
      "block3_conv1 (Conv2D)        (None, 56, 56, 256)       295168    \n",
      "_________________________________________________________________\n",
      "block3_conv2 (Conv2D)        (None, 56, 56, 256)       590080    \n",
      "_________________________________________________________________\n",
      "block3_conv3 (Conv2D)        (None, 56, 56, 256)       590080    \n",
      "_________________________________________________________________\n",
      "block3_pool (MaxPooling2D)   (None, 28, 28, 256)       0         \n",
      "_________________________________________________________________\n",
      "block4_conv1 (Conv2D)        (None, 28, 28, 512)       1180160   \n",
      "_________________________________________________________________\n",
      "block4_conv2 (Conv2D)        (None, 28, 28, 512)       2359808   \n",
      "_________________________________________________________________\n",
      "block4_conv3 (Conv2D)        (None, 28, 28, 512)       2359808   \n",
      "_________________________________________________________________\n",
      "block4_pool (MaxPooling2D)   (None, 14, 14, 512)       0         \n",
      "_________________________________________________________________\n",
      "block5_conv1 (Conv2D)        (None, 14, 14, 512)       2359808   \n",
      "_________________________________________________________________\n",
      "block5_conv2 (Conv2D)        (None, 14, 14, 512)       2359808   \n",
      "_________________________________________________________________\n",
      "block5_conv3 (Conv2D)        (None, 14, 14, 512)       2359808   \n",
      "_________________________________________________________________\n",
      "block5_pool (MaxPooling2D)   (None, 7, 7, 512)         0         \n",
      "=================================================================\n",
      "Total params: 14,714,688\n",
      "Trainable params: 14,714,688\n",
      "Non-trainable params: 0\n",
      "_________________________________________________________________\n"
     ]
    }
   ],
   "source": [
    "model.summary()"
   ]
  },
  {
   "cell_type": "code",
   "execution_count": null,
   "metadata": {
    "id": "wpXTri0dt5wb"
   },
   "outputs": [],
   "source": [
    "for layer in final_model_train.layers:\n",
    "  layer.trainable = True"
   ]
  },
  {
   "cell_type": "code",
   "execution_count": null,
   "metadata": {
    "id": "ldj9Vsfjt5yz"
   },
   "outputs": [],
   "source": [
    "for layer in model.layers:\n",
    "  layer.trainable = False"
   ]
  },
  {
   "cell_type": "code",
   "execution_count": null,
   "metadata": {
    "colab": {
     "base_uri": "https://localhost:8080/"
    },
    "id": "Z6pKsu0SjcSd",
    "outputId": "5700ed4b-956c-46e1-fe9d-cbefae24f609"
   },
   "outputs": [
    {
     "name": "stdout",
     "output_type": "stream",
     "text": [
      "Model: \"model\"\n",
      "_________________________________________________________________\n",
      "Layer (type)                 Output Shape              Param #   \n",
      "=================================================================\n",
      "input_1 (InputLayer)         [(None, 224, 224, 3)]     0         \n",
      "_________________________________________________________________\n",
      "block1_conv1 (Conv2D)        (None, 224, 224, 64)      1792      \n",
      "_________________________________________________________________\n",
      "block1_conv2 (Conv2D)        (None, 224, 224, 64)      36928     \n",
      "_________________________________________________________________\n",
      "block1_pool (MaxPooling2D)   (None, 112, 112, 64)      0         \n",
      "_________________________________________________________________\n",
      "block2_conv1 (Conv2D)        (None, 112, 112, 128)     73856     \n",
      "_________________________________________________________________\n",
      "block2_conv2 (Conv2D)        (None, 112, 112, 128)     147584    \n",
      "_________________________________________________________________\n",
      "block2_pool (MaxPooling2D)   (None, 56, 56, 128)       0         \n",
      "_________________________________________________________________\n",
      "block3_conv1 (Conv2D)        (None, 56, 56, 256)       295168    \n",
      "_________________________________________________________________\n",
      "block3_conv2 (Conv2D)        (None, 56, 56, 256)       590080    \n",
      "_________________________________________________________________\n",
      "block3_conv3 (Conv2D)        (None, 56, 56, 256)       590080    \n",
      "_________________________________________________________________\n",
      "block3_pool (MaxPooling2D)   (None, 28, 28, 256)       0         \n",
      "_________________________________________________________________\n",
      "block4_conv1 (Conv2D)        (None, 28, 28, 512)       1180160   \n",
      "_________________________________________________________________\n",
      "block4_conv2 (Conv2D)        (None, 28, 28, 512)       2359808   \n",
      "_________________________________________________________________\n",
      "block4_conv3 (Conv2D)        (None, 28, 28, 512)       2359808   \n",
      "_________________________________________________________________\n",
      "block4_pool (MaxPooling2D)   (None, 14, 14, 512)       0         \n",
      "_________________________________________________________________\n",
      "block5_conv1 (Conv2D)        (None, 14, 14, 512)       2359808   \n",
      "_________________________________________________________________\n",
      "block5_conv2 (Conv2D)        (None, 14, 14, 512)       2359808   \n",
      "_________________________________________________________________\n",
      "block5_conv3 (Conv2D)        (None, 14, 14, 512)       2359808   \n",
      "_________________________________________________________________\n",
      "block5_pool (MaxPooling2D)   (None, 7, 7, 512)         0         \n",
      "_________________________________________________________________\n",
      "flatten (Flatten)            (None, 25088)             0         \n",
      "_________________________________________________________________\n",
      "dense (Dense)                (None, 128)               3211392   \n",
      "_________________________________________________________________\n",
      "dense_1 (Dense)              (None, 64)                8256      \n",
      "_________________________________________________________________\n",
      "dropout (Dropout)            (None, 64)                0         \n",
      "_________________________________________________________________\n",
      "dense_2 (Dense)              (None, 1)                 65        \n",
      "=================================================================\n",
      "Total params: 17,934,401\n",
      "Trainable params: 3,219,713\n",
      "Non-trainable params: 14,714,688\n",
      "_________________________________________________________________\n"
     ]
    }
   ],
   "source": [
    "final_model_train.summary()"
   ]
  },
  {
   "cell_type": "code",
   "execution_count": null,
   "metadata": {
    "id": "XYYRuxcbjcSd"
   },
   "outputs": [],
   "source": [
    "adam = tensorflow.keras.optimizers.Adam(0.0001)\n",
    "final_model_train.compile(loss= 'binary_crossentropy', optimizer=adam, metrics=['accuracy'])"
   ]
  },
  {
   "cell_type": "code",
   "execution_count": null,
   "metadata": {
    "colab": {
     "base_uri": "https://localhost:8080/"
    },
    "id": "cvE9WkAcQo0j",
    "outputId": "cb83d3a0-3f0c-4b6f-d63b-5ea67ae8e977"
   },
   "outputs": [
    {
     "data": {
      "text/plain": [
       "((2691, 224, 224, 3), (2691,))"
      ]
     },
     "execution_count": 23,
     "metadata": {
      "tags": []
     },
     "output_type": "execute_result"
    }
   ],
   "source": [
    "train_x.shape, train_y.shape"
   ]
  },
  {
   "cell_type": "code",
   "execution_count": null,
   "metadata": {
    "colab": {
     "base_uri": "https://localhost:8080/"
    },
    "id": "1EDLHtPBjcSd",
    "outputId": "ab06148f-22ab-4964-93c2-23b913c292f8"
   },
   "outputs": [
    {
     "name": "stdout",
     "output_type": "stream",
     "text": [
      "Epoch 1/12\n",
      "20/20 [==============================] - 41s 745ms/step - loss: 1.1950 - accuracy: 0.8486\n",
      "Epoch 2/12\n",
      "20/20 [==============================] - 5s 251ms/step - loss: 0.8391 - accuracy: 0.9984\n",
      "Epoch 3/12\n",
      "20/20 [==============================] - 5s 251ms/step - loss: 0.8052 - accuracy: 0.9994\n",
      "Epoch 4/12\n",
      "20/20 [==============================] - 5s 251ms/step - loss: 0.7778 - accuracy: 1.0000\n",
      "Epoch 5/12\n",
      "20/20 [==============================] - 5s 251ms/step - loss: 0.7534 - accuracy: 1.0000\n",
      "Epoch 6/12\n",
      "20/20 [==============================] - 5s 251ms/step - loss: 0.7301 - accuracy: 1.0000\n",
      "Epoch 7/12\n",
      "20/20 [==============================] - 5s 251ms/step - loss: 0.7083 - accuracy: 1.0000\n",
      "Epoch 8/12\n",
      "20/20 [==============================] - 5s 251ms/step - loss: 0.6865 - accuracy: 1.0000\n",
      "Epoch 9/12\n",
      "20/20 [==============================] - 5s 251ms/step - loss: 0.6637 - accuracy: 1.0000\n",
      "Epoch 10/12\n",
      "20/20 [==============================] - 5s 252ms/step - loss: 0.6425 - accuracy: 1.0000\n",
      "Epoch 11/12\n",
      "20/20 [==============================] - 5s 253ms/step - loss: 0.6234 - accuracy: 1.0000\n",
      "Epoch 12/12\n",
      "20/20 [==============================] - 5s 251ms/step - loss: 0.6014 - accuracy: 1.0000\n"
     ]
    }
   ],
   "source": [
    "history = final_model_train.fit(train_x,train_y, steps_per_epoch=20,epochs=12)"
   ]
  },
  {
   "cell_type": "code",
   "execution_count": null,
   "metadata": {
    "colab": {
     "base_uri": "https://localhost:8080/"
    },
    "id": "XMJJRMZEzuxU",
    "outputId": "37418a83-fa21-43f8-d0f0-bf62acafa731"
   },
   "outputs": [
    {
     "data": {
      "text/plain": [
       "((2691, 224, 224, 3), (2691,))"
      ]
     },
     "execution_count": 25,
     "metadata": {
      "tags": []
     },
     "output_type": "execute_result"
    }
   ],
   "source": [
    "train_x.shape,train_y.shape"
   ]
  },
  {
   "cell_type": "code",
   "execution_count": null,
   "metadata": {
    "id": "SNLGZ02RNIOM"
   },
   "outputs": [],
   "source": [
    "#Change the directory path as per your requirement\n",
    "\n",
    "final_model_train.save('/Users/visha/Documents/MSDSAI/Dissertation/Final Submission/WEB/Final_dataset/train_VGG16.h5')"
   ]
  },
  {
   "cell_type": "markdown",
   "metadata": {
    "id": "4tbhhWkBOURU"
   },
   "source": [
    "Feature Extraction\n"
   ]
  },
  {
   "cell_type": "code",
   "execution_count": null,
   "metadata": {
    "id": "6yqOPK_SOW88"
   },
   "outputs": [],
   "source": [
    "def feature_generation(model,path,out_file):\n",
    "    train_features={1:[],0:[]}\n",
    "    train_classes=['0','1']\n",
    "    for i in train_classes:\n",
    "      in_path=os.listdir(path+i+'/')\n",
    "      for j in in_path:\n",
    "        x = cv2.imread(path+i+'/'+j)\n",
    "        x = cv2.resize(x, (224,224))\n",
    "        x = cv2.cvtColor(x, cv2.COLOR_RGB2BGR).astype(np.float32) / 255.0\n",
    "        x = np.expand_dims(x, axis =0)\n",
    "        train_features[int(i)].append(model.predict(x))\n",
    "    pickle.dump(train_features, open(out_file, \"wb\" ))\n",
    "    return train_features"
   ]
  },
  {
   "cell_type": "code",
   "execution_count": null,
   "metadata": {
    "id": "ZrGCKc43OW_e"
   },
   "outputs": [],
   "source": [
    "#Change the directory path as per your requirement\n",
    "\n",
    "model=load_model('/Users/visha/Documents/MSDSAI/Dissertation/Final Submission/WEB/Final_dataset/train_VGG16.h5')"
   ]
  },
  {
   "cell_type": "code",
   "execution_count": null,
   "metadata": {
    "id": "EGWaXHFkOXCL"
   },
   "outputs": [],
   "source": [
    "#Generating feature for the dense layer utilizing train data\n",
    "#Change the directory path as per your requirement\n",
    "\n",
    "model_train = Model(model.input,model.get_layer('dense').output)\n",
    "train_feature = feature_generation(model_train,'/Users/visha/Documents/MSDSAI/Dissertation/Final Submission/WEB/Final_dataset/CLAHE_Img_Data/Train/','train_features_dense.pkl')"
   ]
  },
  {
   "cell_type": "code",
   "execution_count": null,
   "metadata": {
    "colab": {
     "base_uri": "https://localhost:8080/"
    },
    "id": "j_S_NVTyOXEy",
    "outputId": "c4c1000f-0a13-482b-f30c-3b9f264359c9"
   },
   "outputs": [
    {
     "data": {
      "text/plain": [
       "(1, 128)"
      ]
     },
     "execution_count": 30,
     "metadata": {
      "tags": []
     },
     "output_type": "execute_result"
    }
   ],
   "source": [
    "train_feature[0][0].shape"
   ]
  },
  {
   "cell_type": "code",
   "execution_count": null,
   "metadata": {
    "id": "prxuY60hOXHI"
   },
   "outputs": [],
   "source": [
    "#Change the directory path as per your requirement\n",
    "\n",
    "train_feature_dict=pickle.load(open('/Users/visha/Documents/MSDSAI/Dissertation/Final Submission/WEB/Final_dataset/CLAHE_Img_Data/Train/train_features_dense.pkl','rb'))"
   ]
  },
  {
   "cell_type": "code",
   "execution_count": null,
   "metadata": {
    "id": "q52BE5_OOXKR"
   },
   "outputs": [],
   "source": [
    "#Creating features and labels list\n",
    "train_labels_list = []\n",
    "train_feature_list = []\n",
    "for key,features in train_feature_dict.items():\n",
    "    train_labels_list.extend([int(key)] * len(features))\n",
    "    train_feature_list.append(features)\n",
    "train_feature_list = np.concatenate(train_feature_list)"
   ]
  },
  {
   "cell_type": "code",
   "execution_count": null,
   "metadata": {
    "id": "h7Th4RThOXMd"
   },
   "outputs": [],
   "source": [
    "train_feature_list_1=[]\n",
    "for i in range(0,len(train_feature_list)):\n",
    "    train_feature_list_1.append(train_feature_list[i].ravel()) "
   ]
  },
  {
   "cell_type": "code",
   "execution_count": null,
   "metadata": {
    "id": "eKcbeqkcOXPg"
   },
   "outputs": [],
   "source": [
    "train_features = np.array(train_feature_list_1)\n",
    "train_labels = np.array(train_labels_list)"
   ]
  },
  {
   "cell_type": "code",
   "execution_count": null,
   "metadata": {
    "colab": {
     "base_uri": "https://localhost:8080/"
    },
    "id": "G4Xt94CLUDme",
    "outputId": "15d6af37-6dc2-4994-96a7-c9279e419b04"
   },
   "outputs": [
    {
     "data": {
      "text/plain": [
       "((2691, 128), (2691,), (2140, 224, 224, 3), (2140,))"
      ]
     },
     "execution_count": 35,
     "metadata": {
      "tags": []
     },
     "output_type": "execute_result"
    }
   ],
   "source": [
    "train_features.shape, train_labels.shape, test_x.shape, test_y.shape"
   ]
  },
  {
   "cell_type": "code",
   "execution_count": null,
   "metadata": {
    "id": "5Qdj9snUJE67"
   },
   "outputs": [],
   "source": [
    "test_features = test_x\n",
    "test_labels = test_y"
   ]
  },
  {
   "cell_type": "markdown",
   "metadata": {
    "id": "BxOyuk0bUf_D"
   },
   "source": [
    "\n",
    "\n",
    "## Final Prediction on test data"
   ]
  },
  {
   "cell_type": "code",
   "execution_count": null,
   "metadata": {
    "id": "A31Pz5bWUjU6"
   },
   "outputs": [],
   "source": [
    "from sklearn.svm import SVC\n",
    "#'rbf,'‘sigmoid’,,probability=True\n",
    "tuned_model = SVC(C=0.1, kernel='linear', probability=True)"
   ]
  },
  {
   "cell_type": "code",
   "execution_count": null,
   "metadata": {
    "id": "peIsk3EYUjcZ"
   },
   "outputs": [],
   "source": [
    "tuned_model.fit(train_features, train_labels)\n",
    "\n",
    "features_train_1 = tuned_model.predict(train_features)\n",
    "features_train_1 = features_train_1.reshape(features_train_1.shape[0],-1)"
   ]
  },
  {
   "cell_type": "code",
   "execution_count": null,
   "metadata": {
    "id": "26pUiK-YV-gz"
   },
   "outputs": [],
   "source": [
    "features_test_1 = model_train.predict(test_features)"
   ]
  },
  {
   "cell_type": "code",
   "execution_count": null,
   "metadata": {
    "colab": {
     "base_uri": "https://localhost:8080/"
    },
    "id": "179ldK7IWPaA",
    "outputId": "0a5f8289-dd88-4a38-c08f-8439bb352b42"
   },
   "outputs": [
    {
     "data": {
      "text/plain": [
       "(2140, 128)"
      ]
     },
     "execution_count": 40,
     "metadata": {
      "tags": []
     },
     "output_type": "execute_result"
    }
   ],
   "source": [
    "features_test_1.shape"
   ]
  },
  {
   "cell_type": "code",
   "execution_count": null,
   "metadata": {
    "id": "T0KLbADTUjff"
   },
   "outputs": [],
   "source": [
    "features_test_1= tuned_model.predict(features_test_1)\n",
    "features_test_1 = features_test_1.reshape(features_test_1.shape[0],-1)"
   ]
  },
  {
   "cell_type": "code",
   "execution_count": null,
   "metadata": {
    "colab": {
     "base_uri": "https://localhost:8080/"
    },
    "id": "2_Guu_3vXjXR",
    "outputId": "d15f0d08-53b9-4886-efb6-ddab902b5725"
   },
   "outputs": [
    {
     "data": {
      "text/plain": [
       "(2140, 1)"
      ]
     },
     "execution_count": 42,
     "metadata": {
      "tags": []
     },
     "output_type": "execute_result"
    }
   ],
   "source": [
    "features_test_1.shape"
   ]
  },
  {
   "cell_type": "code",
   "execution_count": null,
   "metadata": {
    "colab": {
     "base_uri": "https://localhost:8080/"
    },
    "id": "iog6xCg0UjkP",
    "outputId": "5f209c5a-fa80-4fe5-f3ba-517c445c1616"
   },
   "outputs": [
    {
     "name": "stdout",
     "output_type": "stream",
     "text": [
      "Accuracy =  0.5897196261682243\n"
     ]
    }
   ],
   "source": [
    "from sklearn import metrics\n",
    "print (\"Accuracy = \", metrics.accuracy_score(test_labels, features_test_1))"
   ]
  },
  {
   "cell_type": "code",
   "execution_count": null,
   "metadata": {
    "colab": {
     "base_uri": "https://localhost:8080/"
    },
    "id": "2mkYR7hlUjmS",
    "outputId": "79a0b1c2-7cd8-4f38-bdd8-249e839a89ee"
   },
   "outputs": [
    {
     "name": "stdout",
     "output_type": "stream",
     "text": [
      "Confusion Matrix:[[859 315]\n",
      " [563 403]]\n",
      "Classification Report:              precision    recall  f1-score   support\n",
      "\n",
      "           0       0.60      0.73      0.66      1174\n",
      "           1       0.56      0.42      0.48       966\n",
      "\n",
      "    accuracy                           0.59      2140\n",
      "   macro avg       0.58      0.57      0.57      2140\n",
      "weighted avg       0.58      0.59      0.58      2140\n",
      "\n"
     ]
    }
   ],
   "source": [
    "from sklearn.metrics import precision_score, recall_score, confusion_matrix, classification_report, accuracy_score, f1_score\n",
    "    \n",
    "print('Confusion Matrix:' + str(confusion_matrix(test_labels, features_test_1)))\n",
    "print('Classification Report:' + str(classification_report(test_labels, features_test_1)))"
   ]
  },
  {
   "cell_type": "markdown",
   "metadata": {
    "id": "JI0P8SqHGux6"
   },
   "source": [
    "## Evaluation Metrics on Training Set\n",
    "\n",
    "\n",
    "\n",
    "### Precision Recall Vs Threshold Curve "
   ]
  },
  {
   "cell_type": "code",
   "execution_count": null,
   "metadata": {
    "id": "RrS7eCqpezYj"
   },
   "outputs": [],
   "source": [
    "from sklearn.model_selection import cross_val_predict\n",
    "train_values = cross_val_predict(tuned_model, train_features,train_labels, cv=3,method=\"decision_function\")"
   ]
  },
  {
   "cell_type": "code",
   "execution_count": null,
   "metadata": {
    "id": "hsvT5lZnezbt"
   },
   "outputs": [],
   "source": [
    "from sklearn.metrics import precision_recall_curve\n",
    "from sklearn.metrics import precision_score, recall_score\n",
    "\n",
    "precisions, recalls, thresholds = precision_recall_curve(train_labels, train_values)"
   ]
  },
  {
   "cell_type": "code",
   "execution_count": null,
   "metadata": {
    "colab": {
     "base_uri": "https://localhost:8080/",
     "height": 396
    },
    "id": "iv_h4PAVezfS",
    "outputId": "c72b92bf-2921-4d5c-b41b-5ee75a100b15"
   },
   "outputs": [
    {
     "data": {
      "image/png": "[encoded data removed]",
      "text/plain": [
       "<Figure size 720x432 with 1 Axes>"
      ]
     },
     "metadata": {
      "needs_background": "light",
      "tags": []
     },
     "output_type": "display_data"
    }
   ],
   "source": [
    "def plot_precision_recall_vs_threshold(precisions, recalls, thresholds):\n",
    "    plt.plot(thresholds, recalls[:-1], label=\"Recall\", linewidth=2)\n",
    "    plt.plot(thresholds, precisions[:-1], label=\"Precision\", linewidth=2)  \n",
    "    plt.grid(True)      \n",
    "    plt.legend(loc=\"lower left\", fontsize=16)\n",
    "    plt.xlabel(\"Threshold\", fontsize=18)      \n",
    "                        \n",
    "plt.figure(figsize=(10, 6))             \n",
    "plot_precision_recall_vs_threshold(precisions, recalls, thresholds)                                     \n",
    "plt.show()"
   ]
  },
  {
   "cell_type": "markdown",
   "metadata": {
    "id": "w5a_wnqFm1GA"
   },
   "source": [
    "# Evaluation Metrics on Testing data\n",
    "\n",
    "### Precision Recall Vs Threshold Curve"
   ]
  },
  {
   "cell_type": "code",
   "execution_count": null,
   "metadata": {
    "id": "Q_PNgz8yfaJt"
   },
   "outputs": [],
   "source": [
    "from sklearn.metrics import roc_curve, roc_auc_score"
   ]
  },
  {
   "cell_type": "code",
   "execution_count": null,
   "metadata": {
    "id": "lJPuK4rLfaM5"
   },
   "outputs": [],
   "source": [
    "svm_prob_train = tuned_model.predict_proba(train_features)\n",
    "\n",
    "features_test_2 = model_train.predict(test_features)\n",
    "svm_prob = tuned_model.predict_proba(features_test_2)"
   ]
  },
  {
   "cell_type": "code",
   "execution_count": null,
   "metadata": {
    "id": "UfOKWYYXnZYO"
   },
   "outputs": [],
   "source": [
    "svm_prob_train = svm_prob_train[:,1]\n",
    "svm_prob = svm_prob[:,1]"
   ]
  },
  {
   "cell_type": "code",
   "execution_count": null,
   "metadata": {
    "id": "SpQLkoP2nZbA"
   },
   "outputs": [],
   "source": [
    "AUC_prob_train = roc_auc_score(train_labels, svm_prob_train)\n",
    "AUC_prob = roc_auc_score(test_labels, svm_prob)"
   ]
  },
  {
   "cell_type": "code",
   "execution_count": null,
   "metadata": {
    "colab": {
     "base_uri": "https://localhost:8080/",
     "height": 457
    },
    "id": "L8aouQsBnZdo",
    "outputId": "1f6b2da3-1730-4672-df03-4a73f71dcf53"
   },
   "outputs": [
    {
     "data": {
      "image/png": "[encoded data removed]",
      "text/plain": [
       "<Figure size 500x500 with 1 Axes>"
      ]
     },
     "metadata": {
      "needs_background": "light",
      "tags": []
     },
     "output_type": "display_data"
    }
   ],
   "source": [
    "from sklearn.metrics import roc_curve, auc\n",
    "\n",
    "fpr_train,tpr_train, threshold = roc_curve(train_labels,svm_prob_train)\n",
    "auc_train = auc(fpr_train, tpr_train)\n",
    "\n",
    "fpr,tpr, threshold = roc_curve(test_labels, svm_prob)\n",
    "auc_test = auc(fpr,tpr)\n",
    "\n",
    "plt.figure(figsize=(5,5), dpi =100)\n",
    "plt.plot(fpr_train,tpr_train,linestyle='-', label='svm_train(auc=%0.3f)' % AUC_prob_train)\n",
    "plt.plot(fpr,tpr,linestyle='-', label='svm_test(auc=%0.3f)' % AUC_prob)\n",
    "\n",
    "plt.plot([0,1],[0,1],c='k', label = 'base line')\n",
    "\n",
    "\n",
    "plt.xlabel('False Positive rate')\n",
    "plt.ylabel('True positive rate')\n",
    "\n",
    "plt.legend()\n",
    "plt.show()"
   ]
  }
 ],
 "metadata": {
  "accelerator": "GPU",
  "colab": {
   "collapsed_sections": [],
   "machine_shape": "hm",
   "name": "Final WEB Crowd_Anomaly.ipynb",
   "provenance": []
  },
  "kernelspec": {
   "display_name": "Python 3",
   "language": "python",
   "name": "python3"
  },
  "language_info": {
   "codemirror_mode": {
    "name": "ipython",
    "version": 3
   },
   "file_extension": ".py",
   "mimetype": "text/x-python",
   "name": "python",
   "nbconvert_exporter": "python",
   "pygments_lexer": "ipython3",
   "version": "3.7.4"
  }
 },
 "nbformat": 4,
 "nbformat_minor": 1
}
